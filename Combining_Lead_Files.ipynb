{
 "cells": [
  {
   "cell_type": "code",
   "execution_count": null,
   "id": "6adf6030-2699-4475-b2f6-97edc55cd869",
   "metadata": {},
   "outputs": [],
   "source": [
    "#To combine the output of the Teacher Model."
   ]
  },
  {
   "cell_type": "code",
   "execution_count": null,
   "id": "843164e0-b288-4b00-9dc3-960d99b8215f",
   "metadata": {},
   "outputs": [],
   "source": [
    "#Imports"
   ]
  },
  {
   "cell_type": "code",
   "execution_count": null,
   "id": "a76916e5-ba92-4fdd-b2c4-d269501e1bc5",
   "metadata": {},
   "outputs": [],
   "source": [
    "import os\n",
    "import numpy as np\n",
    "import pandas as pd\n",
    "import matplotlib.pyplot as plt\n",
    "from datetime import datetime, timedelta"
   ]
  },
  {
   "cell_type": "code",
   "execution_count": null,
   "id": "32bdd2da-a35d-4cfe-b0c5-f102e5562079",
   "metadata": {},
   "outputs": [],
   "source": [
    "nlist=[]"
   ]
  },
  {
   "cell_type": "code",
   "execution_count": null,
   "id": "e3b0376c-a9b5-4ea9-aef6-35ee3f36bea8",
   "metadata": {},
   "outputs": [],
   "source": [
    "for lead in range(1, 8):\n",
    "    file=f'lead{lead}.csv'\n",
    "    if os.path.exists(file):\n",
    "        df=pd.read_csv(file)\n",
    "        df['Lead_Time']=lead\n",
    "        nlist.append(df)\n",
    "    else:\n",
    "        print('Error')"
   ]
  },
  {
   "cell_type": "code",
   "execution_count": null,
   "id": "490fe76e-6469-4ee7-a8ae-9691c23ccb9f",
   "metadata": {},
   "outputs": [],
   "source": [
    "nlist"
   ]
  },
  {
   "cell_type": "code",
   "execution_count": null,
   "id": "d1b18d32-9c42-4308-a4bc-0f8ab68dd708",
   "metadata": {},
   "outputs": [],
   "source": [
    "fdf=pd.concat(nlist, ignore_index=True)\n",
    "fdf['Date']=pd.to_datetime(fdf['Date'])\n",
    "fdf=fdf.sort_values(by=['Date']).reset_index(drop=True)\n",
    "fdf['New_Prediction'] = fdf['New_Prediction'].clip(lower=0)\n",
    "fdf.head(2)"
   ]
  },
  {
   "cell_type": "code",
   "execution_count": null,
   "id": "ddec036e-7c08-4315-b6a8-1628d8b932af",
   "metadata": {},
   "outputs": [],
   "source": [
    "fdf.to_csv('leaddata.csv')"
   ]
  },
  {
   "cell_type": "code",
   "execution_count": null,
   "id": "90823227-65ba-48ae-84cf-bf4729a2fd15",
   "metadata": {},
   "outputs": [],
   "source": [
    "#End"
   ]
  }
 ],
 "metadata": {
  "kernelspec": {
   "display_name": "Python 3 (ipykernel)",
   "language": "python",
   "name": "python3"
  },
  "language_info": {
   "codemirror_mode": {
    "name": "ipython",
    "version": 3
   },
   "file_extension": ".py",
   "mimetype": "text/x-python",
   "name": "python",
   "nbconvert_exporter": "python",
   "pygments_lexer": "ipython3",
   "version": "3.11.6"
  }
 },
 "nbformat": 4,
 "nbformat_minor": 5
}
