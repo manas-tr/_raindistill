{
 "cells": [
  {
   "cell_type": "code",
   "execution_count": null,
   "id": "04ea3161-8ba4-4925-bd91-36fb317527f0",
   "metadata": {},
   "outputs": [],
   "source": [
    "#Training the Student Model (XG Boost) on the basis of Distilled Knowledge."
   ]
  },
  {
   "cell_type": "code",
   "execution_count": null,
   "id": "ea0e17d1-3151-492f-acc9-0bb17a2fc688",
   "metadata": {},
   "outputs": [],
   "source": [
    "#Imports"
   ]
  },
  {
   "cell_type": "code",
   "execution_count": null,
   "id": "a931a592-6b4d-4c09-9607-b5ca0cd8d222",
   "metadata": {},
   "outputs": [],
   "source": [
    "import numpy as np\n",
    "import pandas as pd"
   ]
  },
  {
   "cell_type": "code",
   "execution_count": null,
   "id": "a76fda48-e8e4-482f-8a1c-7f4263db2c71",
   "metadata": {},
   "outputs": [],
   "source": [
    "df=pd.read_csv('leaddata.csv')"
   ]
  },
  {
   "cell_type": "code",
   "execution_count": null,
   "id": "0fba054b-cae8-4ca3-b9c2-bc449bf5dede",
   "metadata": {},
   "outputs": [],
   "source": [
    "df.head(5)"
   ]
  },
  {
   "cell_type": "code",
   "execution_count": null,
   "id": "37015210-8605-46fe-b927-957adc944f96",
   "metadata": {},
   "outputs": [],
   "source": [
    "df.drop(columns=['Unnamed: 0'], inplace=True)\n",
    "df.set_index('Date', inplace=True)\n",
    "df.index=pd.to_datetime(df.index)\n",
    "df.head(5)"
   ]
  },
  {
   "cell_type": "code",
   "execution_count": null,
   "id": "0e62c6bb-0c85-4335-b3e1-32d13a75a790",
   "metadata": {},
   "outputs": [],
   "source": [
    "fdf=pd.read_csv('dataset1.csv')"
   ]
  },
  {
   "cell_type": "code",
   "execution_count": null,
   "id": "3c1c45a7-2fb9-4ff6-928b-d0dbb0f4a6ea",
   "metadata": {},
   "outputs": [],
   "source": [
    "fdf.head(5)"
   ]
  },
  {
   "cell_type": "code",
   "execution_count": null,
   "id": "bacbdca6-4e8e-4b67-97d1-353243d33f4f",
   "metadata": {},
   "outputs": [],
   "source": [
    "fdf.drop(columns=['Unnamed: 0'], inplace=True)\n",
    "fdf.set_index('Date', inplace=True)\n",
    "fdf.index=pd.to_datetime(fdf.index)\n",
    "fdf.head(5)"
   ]
  },
  {
   "cell_type": "code",
   "execution_count": null,
   "id": "92c107fb-0c97-47f3-be77-381af6b3cfbe",
   "metadata": {},
   "outputs": [],
   "source": [
    "merged = pd.merge(\n",
    "    df,\n",
    "    fdf,\n",
    "    on=[\"Date\", \"Lat\", \"Lon\", \"Lead_Time\"],\n",
    "    how=\"inner\"\n",
    ")\n",
    "\n",
    "merged.drop(columns=[\n",
    "    'Observed_Precip_y', 'Ensemble_Mean_y', 'Ensemble_Residual_y'\n",
    "], inplace=True)\n",
    "\n",
    "merged.rename(columns={\n",
    "    'Observed_Precip_x': 'Observed_Precip',\n",
    "    'Ensemble_Mean_x': 'Ensemble_Mean',\n",
    "    'Ensemble_Residual_x': 'Ensemble_Residual'\n",
    "}, inplace=True)\n",
    "\n",
    "missing = merged.isna().sum()\n",
    "print(\"Missing values:\\n\", missing[missing > 0])"
   ]
  },
  {
   "cell_type": "code",
   "execution_count": null,
   "id": "234e133c-7c54-4385-8cae-5e15859263e2",
   "metadata": {},
   "outputs": [],
   "source": [
    "merged.head(2)"
   ]
  },
  {
   "cell_type": "code",
   "execution_count": null,
   "id": "f0ff349d-66bc-4f47-8ac5-ea016447da6f",
   "metadata": {},
   "outputs": [],
   "source": [
    "#Modelling"
   ]
  },
  {
   "cell_type": "code",
   "execution_count": null,
   "id": "e592feab-5e31-4908-a0a7-66f0c652a3d9",
   "metadata": {},
   "outputs": [],
   "source": [
    "import xgboost as xgb\n",
    "from sklearn.model_selection import train_test_split\n",
    "from sklearn.preprocessing import StandardScaler\n",
    "from sklearn.metrics import mean_squared_error, r2_score"
   ]
  },
  {
   "cell_type": "code",
   "execution_count": null,
   "id": "d4beec8a-98f4-4372-84b7-4a9f6df9fc0e",
   "metadata": {},
   "outputs": [],
   "source": [
    "forecast_cols = [col for col in merged.columns if col.startswith((\"CFST\", \"GFST\"))]\n",
    "\n",
    "input_features = forecast_cols + [\n",
    "    \"Ensemble_Mean\", \"Ensemble_Spread\",\n",
    "    \"DOY\", \"Climatology\",\n",
    "    \"Lat\", \"Lon\", \"Lead_Time\"\n",
    "]\n",
    "\n",
    "target_col = \"New_Residual\""
   ]
  },
  {
   "cell_type": "code",
   "execution_count": null,
   "id": "f6d986c1-e740-4200-96dd-136830a77a22",
   "metadata": {},
   "outputs": [],
   "source": [
    "merged_clean = merged.dropna(subset=[target_col] + input_features).copy()\n",
    "\n",
    "X = merged_clean[input_features].values\n",
    "y = merged_clean[target_col].values.reshape(-1, 1)"
   ]
  },
  {
   "cell_type": "code",
   "execution_count": null,
   "id": "10683ad4-ffb0-4dc5-a549-b6ba19067e5b",
   "metadata": {},
   "outputs": [],
   "source": [
    "scaler_y = StandardScaler()\n",
    "y_scaled = scaler_y.fit_transform(y)\n",
    "\n",
    "X_train, X_test, y_train, y_test = train_test_split(\n",
    "    X, y_scaled, test_size=0.2, random_state=42\n",
    ")\n",
    "\n",
    "print(\"X_train shape:\", X_train.shape)\n",
    "print(\"y_train shape:\", y_train.shape)"
   ]
  },
  {
   "cell_type": "code",
   "execution_count": null,
   "id": "f3994eec-62ea-4644-8154-c574f96c5fb6",
   "metadata": {},
   "outputs": [],
   "source": [
    "y_train_flat = y_train.flatten()\n",
    "y_test_flat = y_test.flatten()"
   ]
  },
  {
   "cell_type": "code",
   "execution_count": null,
   "id": "b18ab415-1551-427d-8a08-3fdbaa7f6ef5",
   "metadata": {},
   "outputs": [],
   "source": [
    "xgb_model = xgb.XGBRegressor(\n",
    "    n_estimators=500,\n",
    "    max_depth=6,\n",
    "    learning_rate=0.03,\n",
    "    subsample=0.8,\n",
    "    colsample_bytree=0.8,\n",
    "    random_state=42,\n",
    "    n_jobs=-1,\n",
    "    verbosity=1\n",
    ")"
   ]
  },
  {
   "cell_type": "code",
   "execution_count": null,
   "id": "d12dc6c8-1335-4ac3-8a7e-c7c7993ebb4f",
   "metadata": {},
   "outputs": [],
   "source": [
    "xgb_model.fit(X_train, y_train_flat)"
   ]
  },
  {
   "cell_type": "code",
   "execution_count": null,
   "id": "de91bfbd-9221-4146-ae0b-bc76382f443e",
   "metadata": {},
   "outputs": [],
   "source": [
    "y_pred_scaled = xgb_model.predict(X_test)\n",
    "y_pred = scaler_y.inverse_transform(y_pred_scaled.reshape(-1, 1)).flatten()"
   ]
  },
  {
   "cell_type": "code",
   "execution_count": null,
   "id": "ee18ea70-bca1-4c5d-a753-c38163c8196f",
   "metadata": {},
   "outputs": [],
   "source": [
    "ens_index = input_features.index(\"Ensemble_Mean\")\n",
    "ens_mean_test = X_test[:, ens_index]"
   ]
  },
  {
   "cell_type": "code",
   "execution_count": null,
   "id": "6f247f36-2cc7-437f-9b7e-79b09d8f48d1",
   "metadata": {},
   "outputs": [],
   "source": [
    "final_prediction = ens_mean_test - y_pred"
   ]
  },
  {
   "cell_type": "code",
   "execution_count": null,
   "id": "9f8d6589-7133-4177-9e99-20dad0fe05da",
   "metadata": {},
   "outputs": [],
   "source": [
    "final_prediction"
   ]
  },
  {
   "cell_type": "code",
   "execution_count": null,
   "id": "e1d4710b-a68b-44fc-8ef0-e0acc7c53e98",
   "metadata": {},
   "outputs": [],
   "source": [
    "X = merged_clean[input_features].values\n",
    "y = merged_clean[target_col].values.reshape(-1, 1)\n",
    "\n",
    "position_indices = np.arange(len(merged_clean))\n",
    "\n",
    "X_train, X_test, y_train, y_test, train_idx, test_idx = train_test_split(\n",
    "    X, y_scaled, position_indices, test_size=0.2, random_state=42\n",
    ")"
   ]
  },
  {
   "cell_type": "code",
   "execution_count": null,
   "id": "4b5615bc-f19d-4c72-bc9a-275a476c511b",
   "metadata": {},
   "outputs": [],
   "source": [
    "merged_clean[\"Distilled_Residual\"] = np.nan\n",
    "merged_clean[\"Distilled_Prediction\"] = np.nan\n",
    "\n",
    "merged_clean.iloc[test_idx, merged_clean.columns.get_loc(\"Distilled_Residual\")] = y_pred\n",
    "merged_clean.iloc[test_idx, merged_clean.columns.get_loc(\"Distilled_Prediction\")] = final_prediction"
   ]
  },
  {
   "cell_type": "code",
   "execution_count": null,
   "id": "a2396fca-7497-435a-a8c2-aa80e3c40a07",
   "metadata": {},
   "outputs": [],
   "source": [
    "merged_clean_reset = merged_clean.reset_index(drop=False)\n",
    "\n",
    "# Merge\n",
    "merged = merged.merge(\n",
    "    merged_clean_reset[[\"Date\", \"Lat\", \"Lon\", \"Lead_Time\", \"Distilled_Residual\", \"Distilled_Prediction\"]],\n",
    "    on=[\"Date\", \"Lat\", \"Lon\", \"Lead_Time\"],\n",
    "    how=\"left\"\n",
    ")"
   ]
  },
  {
   "cell_type": "code",
   "execution_count": null,
   "id": "73706259-299a-4e2a-a37f-69954a9d1af0",
   "metadata": {},
   "outputs": [],
   "source": [
    "fdf=merged[[\"Date\", \"Observed_Precip\", \"Ensemble_Mean\", \"New_Prediction\", \"Distilled_Prediction\", \"Lead_Time\", \"Lat\", \"Lon\"]].dropna()"
   ]
  },
  {
   "cell_type": "code",
   "execution_count": null,
   "id": "12e3f534-637f-480e-91d9-e11e4eead964",
   "metadata": {},
   "outputs": [],
   "source": [
    "fdf.to_csv('final.csv')"
   ]
  },
  {
   "cell_type": "code",
   "execution_count": null,
   "id": "23a01a90-2eb3-4814-a68e-0aac6a7b0299",
   "metadata": {},
   "outputs": [],
   "source": [
    "#End"
   ]
  }
 ],
 "metadata": {
  "kernelspec": {
   "display_name": "Python 3 (ipykernel)",
   "language": "python",
   "name": "python3"
  },
  "language_info": {
   "codemirror_mode": {
    "name": "ipython",
    "version": 3
   },
   "file_extension": ".py",
   "mimetype": "text/x-python",
   "name": "python",
   "nbconvert_exporter": "python",
   "pygments_lexer": "ipython3",
   "version": "3.11.6"
  }
 },
 "nbformat": 4,
 "nbformat_minor": 5
}
