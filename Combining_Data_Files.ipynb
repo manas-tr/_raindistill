{
 "cells": [
  {
   "cell_type": "code",
   "execution_count": null,
   "id": "9c59df45-2bc9-4b5d-8834-bca17ac27f9f",
   "metadata": {},
   "outputs": [],
   "source": [
    "#Combining the Forecasted and Observed files."
   ]
  },
  {
   "cell_type": "code",
   "execution_count": null,
   "id": "5c177ffc-250d-455e-aa50-8e0e5aec528d",
   "metadata": {},
   "outputs": [],
   "source": [
    "#Imports"
   ]
  },
  {
   "cell_type": "code",
   "execution_count": null,
   "id": "f825df4f-08d8-42a4-b8aa-956082cac5ca",
   "metadata": {},
   "outputs": [],
   "source": [
    "import os\n",
    "import numpy as np\n",
    "import pandas as pd\n",
    "import matplotlib.pyplot as plt\n",
    "from pandas.plotting import register_matplotlib_converters\n",
    "register_matplotlib_converters()\n",
    "\n",
    "import warnings\n",
    "warnings.filterwarnings('ignore')"
   ]
  },
  {
   "cell_type": "code",
   "execution_count": null,
   "id": "19502f89-ecf3-48e4-931e-adf09b5fd418",
   "metadata": {},
   "outputs": [],
   "source": [
    "df = pd.read_csv('forecasted.csv')\n",
    "obs = pd.read_csv('observeddata.csv')"
   ]
  },
  {
   "cell_type": "code",
   "execution_count": null,
   "id": "21137112-a471-4ab1-84be-e8f890ec2e3a",
   "metadata": {},
   "outputs": [],
   "source": [
    "df['Forecast_Date'] = pd.to_datetime(df['Forecast_Date'])\n",
    "obs['Date'] = pd.to_datetime(obs['Date'])"
   ]
  },
  {
   "cell_type": "code",
   "execution_count": null,
   "id": "88f3720c-8fa1-4fc0-a067-e555118f8598",
   "metadata": {},
   "outputs": [],
   "source": [
    "pivot = df.pivot_table(\n",
    "    index='Forecast_Date',\n",
    "    columns='Model',\n",
    "    values='Precipitation'\n",
    ").reset_index()"
   ]
  },
  {
   "cell_type": "code",
   "execution_count": null,
   "id": "6466f8a5-77ca-4370-b4e6-ab543cdd1fce",
   "metadata": {},
   "outputs": [],
   "source": [
    "pivot = pivot.rename(columns={'Forecast_Date': 'Date'})\n",
    "merged = pd.merge(pivot, obs, on='Date', how='inner')"
   ]
  },
  {
   "cell_type": "code",
   "execution_count": null,
   "id": "d752c84a-d4de-470f-adcc-34860b79735a",
   "metadata": {},
   "outputs": [],
   "source": [
    "df=merged"
   ]
  },
  {
   "cell_type": "code",
   "execution_count": null,
   "id": "52dba37d-7ab3-4ac3-a818-2b35ffae3715",
   "metadata": {},
   "outputs": [],
   "source": [
    "df[\"Date\"] = pd.to_datetime(df[\"Date\"])\n",
    "df = df.sort_values(\"Date\").reset_index(drop=True)\n",
    "\n",
    "model_cols = [col for col in df.columns if col.startswith((\"CFST\", \"GFST\"))]\n",
    "\n",
    "for col in model_cols:\n",
    "    df[f\"{col}_residual\"] = df[col] - df[\"Observed_Precip\"]\n",
    "\n",
    "df[\"Ensemble_Mean\"] = df[model_cols].mean(axis=1)\n",
    "df[\"Ensemble_Spread\"] = df[model_cols].std(axis=1)\n",
    "\n",
    "df[\"Ensemble_Residual\"] = df[\"Ensemble_Mean\"] - df[\"Observed_Precip\"]\n",
    "\n",
    "df[\"DOY\"] = df[\"Date\"].dt.dayofyear\n",
    "\n",
    "climatology = df.groupby(\"DOY\")[\"Observed_Precip\"].mean()\n",
    "df[\"Climatology\"] = df[\"DOY\"].map(climatology)\n",
    "\n",
    "df = df.iloc[7:].reset_index(drop=True)"
   ]
  },
  {
   "cell_type": "code",
   "execution_count": null,
   "id": "641d2f93-a70c-4175-a388-9051696b1e02",
   "metadata": {},
   "outputs": [],
   "source": [
    "df['Date'] = pd.to_datetime(df['Date'])\n",
    "first_issue_date = pd.to_datetime('2003-06-07')\n",
    "\n",
    "def get_lead_time(forecast_date):\n",
    "    delta_days = (forecast_date - first_issue_date).days\n",
    "    cycles = delta_days // 7\n",
    "    issue_date = first_issue_date + pd.Timedelta(days=7*cycles)\n",
    "    lead_time = (forecast_date - issue_date).days + 1\n",
    "    return lead_time\n",
    "\n",
    "df['Lead_Time'] = df['Date'].apply(get_lead_time)"
   ]
  },
  {
   "cell_type": "code",
   "execution_count": null,
   "id": "50f4ca5f-49df-4107-95b8-7f5ca5f8a241",
   "metadata": {},
   "outputs": [],
   "source": [
    "df.to_csv('dataset1.csv')"
   ]
  },
  {
   "cell_type": "code",
   "execution_count": null,
   "id": "ef883458-eb77-40b4-a3c5-3cefabb7d3fc",
   "metadata": {},
   "outputs": [],
   "source": [
    "#End"
   ]
  }
 ],
 "metadata": {
  "kernelspec": {
   "display_name": "Python 3 (ipykernel)",
   "language": "python",
   "name": "python3"
  },
  "language_info": {
   "codemirror_mode": {
    "name": "ipython",
    "version": 3
   },
   "file_extension": ".py",
   "mimetype": "text/x-python",
   "name": "python",
   "nbconvert_exporter": "python",
   "pygments_lexer": "ipython3",
   "version": "3.11.6"
  }
 },
 "nbformat": 4,
 "nbformat_minor": 5
}
