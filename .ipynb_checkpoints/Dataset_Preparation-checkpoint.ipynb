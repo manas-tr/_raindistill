{
 "cells": [
  {
   "cell_type": "code",
   "execution_count": null,
   "id": "489c3d19-f3c7-497a-8d11-0911a56f23e1",
   "metadata": {},
   "outputs": [],
   "source": [
    "#To create a csv file. This csv file contains:\n",
    "#All 16 models' forecasting of precipitation for all dates, for all grids. \n",
    "#Where the forecasting for the 8th day is the forecast of the latest weekly forecast.\n",
    "#Imports"
   ]
  },
  {
   "cell_type": "code",
   "execution_count": null,
   "id": "8c53812a-83c2-471b-9479-9f16df6763ae",
   "metadata": {},
   "outputs": [],
   "source": [
    "import os\n",
    "import pandas as pd\n",
    "import numpy as np\n",
    "from datetime import datetime, timedelta"
   ]
  },
  {
   "cell_type": "code",
   "execution_count": null,
   "id": "28ca6603-e2cd-4df7-ad02-e83e53c4dd5c",
   "metadata": {},
   "outputs": [],
   "source": [
    "#Main\n",
    "base_path = r'C:\\Users\\user\\Downloads\\erfs_force\\media\\adam\\WCL_URMIN\\StreamflowForecast\\Forcing2003_2018'\n",
    "output_csv = 'forecasted.csv'\n",
    "all_data = []"
   ]
  },
  {
   "cell_type": "code",
   "execution_count": null,
   "id": "6909a42f-1285-478b-973c-76c0b73b48f9",
   "metadata": {},
   "outputs": [],
   "source": [
    "for issue_folder in sorted(os.listdir(base_path)):\n",
    "    issue_path = os.path.join(base_path, issue_folder)\n",
    "    if not os.path.isdir(issue_path):\n",
    "        continue\n",
    "\n",
    "    issue_date = datetime.strptime(issue_folder, \"%Y%m%d\")\n",
    "    if issue_date.month not in [6, 7, 8, 9]:\n",
    "        continue\n",
    "\n",
    "    print(f\"Processing folder: {issue_folder}\")\n",
    "\n",
    "    for model_name in os.listdir(issue_path):\n",
    "        model_path = os.path.join(issue_path, model_name)\n",
    "        if not os.path.isdir(model_path):\n",
    "            continue\n",
    "\n",
    "        for filename in os.listdir(model_path):\n",
    "            if not filename.startswith(\"data_\"):\n",
    "                continue\n",
    "\n",
    "            lat, lon = map(float, filename.replace(\"data_\", \"\").split(\"_\"))\n",
    "            file_path = os.path.join(model_path, filename)\n",
    "            data = np.loadtxt(file_path, max_rows=7, usecols=(0,))\n",
    "\n",
    "            for i, precip in enumerate(data):\n",
    "                forecast_date = (issue_date + timedelta(days=i + 1)).strftime(\"%Y-%m-%d\")\n",
    "                all_data.append([forecast_date, model_name, lat, lon, precip])"
   ]
  },
  {
   "cell_type": "code",
   "execution_count": null,
   "id": "909d7e98-4c5b-441b-9d56-7529b59d895c",
   "metadata": {},
   "outputs": [],
   "source": [
    "df=pd.DataFrame(all_data, columns=[\"Forecast_Date\", \"Model\", \"Lat\", \"Lon\", \"Precipitation\"])\n",
    "df.to_csv(output_csv, index=False)"
   ]
  },
  {
   "cell_type": "code",
   "execution_count": null,
   "id": "f78c1472-f613-4958-8703-5743646e8ffc",
   "metadata": {},
   "outputs": [],
   "source": [
    "df=pd.read_csv(\"forecasted.csv\")"
   ]
  },
  {
   "cell_type": "code",
   "execution_count": null,
   "id": "e401e021-3ea2-4fd1-a881-ebe6df4e7e3a",
   "metadata": {},
   "outputs": [],
   "source": [
    "df.head(2)"
   ]
  },
  {
   "cell_type": "code",
   "execution_count": null,
   "id": "ee0aa2b7-7fc4-41f9-914d-9f367896f97a",
   "metadata": {},
   "outputs": [],
   "source": [
    "observedf=\"observed\"\n",
    "observed_all = []"
   ]
  },
  {
   "cell_type": "code",
   "execution_count": null,
   "id": "9f16bbd9-bc1d-409a-bcfd-5300db97079c",
   "metadata": {},
   "outputs": [],
   "source": [
    "import warnings\n",
    "warnings.filterwarnings('ignore')"
   ]
  },
  {
   "cell_type": "code",
   "execution_count": null,
   "id": "88de475c-8fdd-4083-ab6c-cbb74e5e2caf",
   "metadata": {},
   "outputs": [],
   "source": [
    "for filename in os.listdir(observedf):\n",
    "    if not filename.startswith(\"data_\"):\n",
    "        continue\n",
    "\n",
    "    lat, lon = map(float, filename.replace(\"data_\", \"\").split(\"_\"))\n",
    "    obs_filep = os.path.join(observedf, filename)\n",
    "\n",
    "    obs_df = pd.read_csv(\n",
    "        obs_filep,\n",
    "        delim_whitespace=True,\n",
    "        header=None,\n",
    "        names=[\"Year\", \"Month\", \"Day\", \"Observed_Precip\"]\n",
    "    )\n",
    "    obs_df[\"Date\"] = pd.to_datetime(obs_df[[\"Year\", \"Month\", \"Day\"]])\n",
    "    obs_df = obs_df.drop(columns=[\"Year\", \"Month\", \"Day\"])\n",
    "    obs_df[\"Lat\"] = lat\n",
    "    obs_df[\"Lon\"] = lon\n",
    "\n",
    "    observed_all.append(obs_df)"
   ]
  },
  {
   "cell_type": "code",
   "execution_count": null,
   "id": "08129a1d-edae-4380-b762-befcf536b33f",
   "metadata": {},
   "outputs": [],
   "source": [
    "full_obs_df = pd.concat(observed_all)\n",
    "full_obs_df.set_index(\"Date\", inplace=True)\n",
    "full_obs_df.sort_index(inplace=True)\n",
    "full_obs_df.head(2)"
   ]
  },
  {
   "cell_type": "code",
   "execution_count": null,
   "id": "ee805d9b-ab8b-4cbb-8230-4068e83b6795",
   "metadata": {},
   "outputs": [],
   "source": [
    "full_obs_df.to_csv('observeddata.csv')"
   ]
  },
  {
   "cell_type": "code",
   "execution_count": null,
   "id": "12846eb0-8bfc-40e2-848d-16d66ac23e29",
   "metadata": {},
   "outputs": [],
   "source": [
    "#End"
   ]
  }
 ],
 "metadata": {
  "kernelspec": {
   "display_name": "Python 3 (ipykernel)",
   "language": "python",
   "name": "python3"
  },
  "language_info": {
   "codemirror_mode": {
    "name": "ipython",
    "version": 3
   },
   "file_extension": ".py",
   "mimetype": "text/x-python",
   "name": "python",
   "nbconvert_exporter": "python",
   "pygments_lexer": "ipython3",
   "version": "3.11.6"
  }
 },
 "nbformat": 4,
 "nbformat_minor": 5
}
