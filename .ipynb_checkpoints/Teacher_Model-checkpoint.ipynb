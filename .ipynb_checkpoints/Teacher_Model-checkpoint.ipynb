{
 "cells": [
  {
   "cell_type": "code",
   "execution_count": null,
   "id": "65acfe51-40bc-4b95-9606-13366edc9ddf",
   "metadata": {},
   "outputs": [],
   "source": [
    "#Training the Teacher Model (LSTM) on full dataset."
   ]
  },
  {
   "cell_type": "code",
   "execution_count": null,
   "id": "779a47fd-23af-4ce5-b266-8f1738dfca7c",
   "metadata": {},
   "outputs": [],
   "source": [
    "#Imports"
   ]
  },
  {
   "cell_type": "code",
   "execution_count": null,
   "id": "39e54918-b86c-480f-93fc-dde70a4195e0",
   "metadata": {},
   "outputs": [],
   "source": [
    "import os\n",
    "import numpy as np\n",
    "import pandas as pd\n",
    "from datetime import datetime, timedelta\n",
    "\n",
    "import warnings\n",
    "warnings.filterwarnings(\"ignore\")"
   ]
  },
  {
   "cell_type": "code",
   "execution_count": null,
   "id": "619a71ff-a36b-402f-a3ed-0048f3fc6e88",
   "metadata": {},
   "outputs": [],
   "source": [
    "#Data"
   ]
  },
  {
   "cell_type": "code",
   "execution_count": null,
   "id": "b4c18c02-5281-4fa7-a324-24b492f1ec77",
   "metadata": {},
   "outputs": [],
   "source": [
    "forecast_df = pd.read_csv(\"forecasted.csv\")\n",
    "obs_df = pd.read_csv(\"observeddata.csv\")\n",
    "forecast_df['Forecast_Date'] = pd.to_datetime(forecast_df['Forecast_Date'])\n",
    "obs_df['Date'] = pd.to_datetime(obs_df['Date'])\n",
    "grid_points = forecast_df[['Lat', 'Lon']].drop_duplicates().values.tolist()\n",
    "first_issue_date = pd.to_datetime('2003-06-07')"
   ]
  },
  {
   "cell_type": "code",
   "execution_count": null,
   "id": "9f656173-946f-4d98-a6b0-51329fe7966d",
   "metadata": {},
   "outputs": [],
   "source": [
    "def get_lead_time(forecast_date):\n",
    "    delta_days = (forecast_date - first_issue_date).days\n",
    "    cycles = delta_days // 7\n",
    "    issue_date = first_issue_date + pd.Timedelta(days=7*cycles)\n",
    "    return (forecast_date - issue_date).days + 1\n",
    "\n",
    "output_leads = {lt: [] for lt in range(1, 8)}"
   ]
  },
  {
   "cell_type": "code",
   "execution_count": null,
   "id": "e4835645-2a93-4413-93ea-bacaee1cce0f",
   "metadata": {},
   "outputs": [],
   "source": [
    "#Modelling"
   ]
  },
  {
   "cell_type": "code",
   "execution_count": null,
   "id": "4e1eafcc-43d4-4f13-b236-0a70a043709c",
   "metadata": {},
   "outputs": [],
   "source": [
    "from sklearn.preprocessing import StandardScaler\n",
    "from sklearn.model_selection import train_test_split\n",
    "from sklearn.metrics import mean_squared_error\n",
    "from tensorflow.keras.models import Model, Sequential\n",
    "from tensorflow.keras.layers import Input, Conv1D, LSTM, Dense, Dropout\n",
    "from tensorflow.keras.optimizers import Adam"
   ]
  },
  {
   "cell_type": "code",
   "execution_count": null,
   "id": "c244d3f0-181f-46fe-ac02-3c47131466ba",
   "metadata": {},
   "outputs": [],
   "source": [
    "all_data = []\n",
    "\n",
    "for lat, lon in grid_points:\n",
    "    fcst_grid = forecast_df[(forecast_df['Lat'] == lat) & (forecast_df['Lon'] == lon)].copy()\n",
    "    obs_grid = obs_df[(obs_df['Lat'] == lat) & (obs_df['Lon'] == lon)].copy()\n",
    "\n",
    "    pivot = fcst_grid.pivot_table(index='Forecast_Date', columns='Model', values='Precipitation').reset_index()\n",
    "    pivot.rename(columns={'Forecast_Date': 'Date'}, inplace=True)\n",
    "\n",
    "    merged = pd.merge(pivot, obs_grid, on='Date', how='inner')\n",
    "    merged.sort_values(\"Date\", inplace=True)\n",
    "\n",
    "    model_cols = [col for col in merged.columns if col.startswith((\"CFST\", \"GFST\"))]\n",
    "    for col in model_cols:\n",
    "        merged[f\"{col}_residual\"] = merged[col] - merged[\"Observed_Precip\"]\n",
    "\n",
    "    merged[\"Ensemble_Mean\"] = merged[model_cols].mean(axis=1)\n",
    "    merged[\"Ensemble_Spread\"] = merged[model_cols].std(axis=1)\n",
    "    merged[\"Ensemble_Residual\"] = merged[\"Ensemble_Mean\"] - merged[\"Observed_Precip\"]\n",
    "\n",
    "    merged[\"Obs_RollMean_3\"] = merged[\"Observed_Precip\"].rolling(window=3).mean()\n",
    "    merged[\"Obs_RollStd_3\"] = merged[\"Observed_Precip\"].rolling(window=3).std()\n",
    "    merged[\"Obs_RollMean_7\"] = merged[\"Observed_Precip\"].rolling(window=7).mean()\n",
    "    merged[\"Obs_RollStd_7\"] = merged[\"Observed_Precip\"].rolling(window=7).std()\n",
    "\n",
    "    merged[\"DOY\"] = merged[\"Date\"].dt.dayofyear\n",
    "    climatology = merged.groupby(\"DOY\")[\"Observed_Precip\"].mean()\n",
    "    merged[\"Climatology\"] = merged[\"DOY\"].map(climatology)\n",
    "    merged[\"Anomaly\"] = merged[\"Observed_Precip\"] - merged[\"Climatology\"]\n",
    "\n",
    "    merged = merged.iloc[7:].reset_index(drop=True)\n",
    "    merged[\"Lead_Time\"] = merged[\"Date\"].apply(get_lead_time)\n",
    "    merged[\"Lat\"] = lat\n",
    "    merged[\"Lon\"] = lon\n",
    "\n",
    "    all_data.append(merged)\n",
    "\n",
    "df_all = pd.concat(all_data).reset_index(drop=True)\n",
    "\n",
    "for lead in range(1, 8):\n",
    "    df_lead = df_all[df_all[\"Lead_Time\"] == lead].copy()\n",
    "    if df_lead.empty:\n",
    "        continue\n",
    "\n",
    "    model_cols = [col for col in df_lead.columns if col.startswith((\"CFST\", \"GFST\"))]\n",
    "    model_resid_cols = [f\"{col}_residual\" for col in model_cols]\n",
    "\n",
    "    feature_cols = model_cols + model_resid_cols + [\n",
    "        \"Ensemble_Mean\", \"Ensemble_Spread\", \"Climatology\", \"Anomaly\",\n",
    "        \"Obs_RollMean_3\", \"Obs_RollStd_3\", \"Obs_RollMean_7\", \"Obs_RollStd_7\", \"DOY\"\n",
    "    ]\n",
    "    \n",
    "    X = df_lead[feature_cols].values\n",
    "    y = df_lead[\"Ensemble_Residual\"].values.reshape(-1, 1)\n",
    "\n",
    "    scaler_X = StandardScaler()\n",
    "    scaler_y = StandardScaler()\n",
    "    X_scaled = scaler_X.fit_transform(X)\n",
    "    y_scaled = scaler_y.fit_transform(y)\n",
    "\n",
    "    X_scaled = X_scaled.reshape((X_scaled.shape[0], 1, X_scaled.shape[1]))  # (samples, time_steps, features)\n",
    "\n",
    "    X_train, X_test, y_train, y_test = train_test_split(X_scaled, y_scaled, test_size=0.2, shuffle=False)\n",
    "\n",
    "    input_layer = Input(shape=(1, X_train.shape[2]))\n",
    "    x = Conv1D(filters=32, kernel_size=1, activation='relu')(input_layer)\n",
    "    x = LSTM(64, activation='relu', return_sequences=True)(x)\n",
    "    x = Dropout(0.2)(x)\n",
    "    x = LSTM(32, activation='relu')(x)\n",
    "    x = Dropout(0.2)(x)\n",
    "    x = Dense(32, activation='relu')(x)\n",
    "    x = Dense(16, activation='relu')(x)\n",
    "    output = Dense(1)(x)\n",
    "\n",
    "    model = Model(inputs=input_layer, outputs=output)\n",
    "    model.compile(optimizer=Adam(learning_rate=0.001), loss='mse')\n",
    "\n",
    "    model.fit(X_train, y_train, validation_data=(X_test, y_test), epochs=15, batch_size=64, verbose=1)\n",
    "\n",
    "    y_pred = model.predict(X_test).flatten()\n",
    "    y_pred_inv = scaler_y.inverse_transform(y_pred.reshape(-1, 1)).flatten()\n",
    "    y_test_inv = scaler_y.inverse_transform(y_test.reshape(-1, 1)).flatten()\n",
    "\n",
    "    df_out = df_lead.iloc[-len(y_test_inv):].copy()\n",
    "    df_out[\"New_Residual\"] = y_pred_inv\n",
    "    df_out[\"New_Prediction\"] = df_out[\"Ensemble_Mean\"] - df_out[\"New_Residual\"]\n",
    "\n",
    "    final_cols = ['Date', 'Observed_Precip', 'Ensemble_Mean', 'Ensemble_Residual', 'New_Residual', 'New_Prediction', 'Lat', 'Lon']\n",
    "    df_out[final_cols].to_csv(f\"lead{lead}.csv\", index=False)"
   ]
  },
  {
   "cell_type": "code",
   "execution_count": null,
   "id": "d7f7755f-23c4-4fcf-bbf2-8994ef253685",
   "metadata": {},
   "outputs": [],
   "source": [
    "#End"
   ]
  }
 ],
 "metadata": {
  "kernelspec": {
   "display_name": "Python 3 (ipykernel)",
   "language": "python",
   "name": "python3"
  },
  "language_info": {
   "codemirror_mode": {
    "name": "ipython",
    "version": 3
   },
   "file_extension": ".py",
   "mimetype": "text/x-python",
   "name": "python",
   "nbconvert_exporter": "python",
   "pygments_lexer": "ipython3",
   "version": "3.11.6"
  }
 },
 "nbformat": 4,
 "nbformat_minor": 5
}
